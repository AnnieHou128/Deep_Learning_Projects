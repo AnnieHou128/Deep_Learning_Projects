{
 "cells": [
  {
   "cell_type": "markdown",
   "metadata": {
    "id": "5eOxhRX-wEXc"
   },
   "source": [
    "# Project - Contrastive Learning\n",
    "\n",
    "### Name: Annie Hou"
   ]
  },
  {
   "cell_type": "markdown",
   "metadata": {
    "id": "LBuhvlsQJ51Y"
   },
   "source": [
    "## Overview\n",
    "\n",
    "Contrastive learning is a self-supervised learning method such that the model organizes the latent space by comparing and contrastive data samples. In this project,  we will use contrastive learning for image classification with CIFAR-10.\n",
    "\n",
    "## Scenario\n",
    "We will use the CIFAR-10 dataset for this exercise. There are 50,000 training images and 10,000 testing images in this dataset. However, we will pretend that out of the 50,000 training images, only 100 are actually labeled. We will work with the **hypothetical** case, where we have 100 labeled images and 49,900 unlabeled images.\n",
    "\n",
    "## Method\n",
    "We will be using [SimCLR](https://arxiv.org/abs/2002.05709).\n",
    "\n",
    "\n",
    "<div>\n",
    "<img src=\"https://camo.githubusercontent.com/35af3432fbe91c56a934b5ee58931b4848ab35043830c9dd6f08fa41e6eadbe7/68747470733a2f2f312e62702e626c6f6773706f742e636f6d2f2d2d764834504b704539596f2f586f3461324259657276492f414141414141414146704d2f766146447750584f79416f6b4143385868383532447a4f67457332324e68625877434c63424741735948512f73313630302f696d616765342e676966\" width=\"600\"/>\n",
    "</div>\n",
    "\n",
    "## Goal\n",
    "After we partition the data, we will experiment under 2 settings:\n",
    "\n",
    "1. Fully supervised learning with 100 labeled training images.\n",
    "\n",
    "2. Contrastive learning on 49,900 unlabeled training images + supervised fine-tuning on 100 training images."
   ]
  },
  {
   "cell_type": "markdown",
   "metadata": {
    "id": "dZ1n8_DNGndP"
   },
   "source": [
    "## 1. Download the CIFAR-10 dataset."
   ]
  },
  {
   "cell_type": "code",
   "execution_count": 1,
   "metadata": {
    "colab": {
     "base_uri": "https://localhost:8080/"
    },
    "id": "wpksDIXWwnsG",
    "outputId": "a637890d-051d-4fb9-f512-330266bf6311"
   },
   "outputs": [],
   "source": [
    "import numpy as np\n",
    "import torch\n",
    "import torchvision\n",
    "\n",
    "train_set = torchvision.datasets.CIFAR10('./datasets',\n",
    "                                         train=True,\n",
    "                                         download=True,\n",
    "                                         transform=None)\n",
    "\n",
    "test_set = torchvision.datasets.CIFAR10('./datasets',\n",
    "                                        train=False,\n",
    "                                        download=True,\n",
    "                                        transform=None)"
   ]
  },
  {
   "cell_type": "markdown",
   "metadata": {
    "id": "4A6s628fYTZx"
   },
   "source": [
    "## 2. Prepare the \"hypothetical training set\"."
   ]
  },
  {
   "cell_type": "code",
   "execution_count": 2,
   "metadata": {
    "colab": {
     "base_uri": "https://localhost:8080/"
    },
    "id": "3gh-naPPHBN-",
    "outputId": "0dce63c9-5887-41cd-e537-5bdbdcea2ec0"
   },
   "outputs": [
    {
     "data": {
      "text/plain": [
       "array([0, 1, 2, 3, 4, 5, 6, 7, 8, 9])"
      ]
     },
     "execution_count": 2,
     "metadata": {},
     "output_type": "execute_result"
    }
   ],
   "source": [
    "# Verify that there are 10 classes in the training set.\n",
    "train_set_labels = np.array([img_label[1] for img_label in train_set])\n",
    "np.unique(train_set_labels)"
   ]
  },
  {
   "cell_type": "code",
   "execution_count": 3,
   "metadata": {
    "id": "w6-SbkW-Hrh-"
   },
   "outputs": [],
   "source": [
    "# Randomly pick 10 data samples from each class --> 100 samples in total.\n",
    "num_samples_per_class = 10\n",
    "\n",
    "labeled_indices = []\n",
    "for cls_id in np.unique(train_set_labels):\n",
    "    valid_indices_arr = np.argwhere(train_set_labels == cls_id).flatten()\n",
    "    selected_indices = np.random.choice(valid_indices_arr, num_samples_per_class, replace=False)\n",
    "    labeled_indices.extend(selected_indices)\n",
    "\n",
    "# Verify the length is correct.\n",
    "assert len(labeled_indices) == 100\n",
    "\n",
    "# Verify it is all unique.\n",
    "assert len(np.unique(labeled_indices)) == 100\n",
    "\n",
    "# The remaining 49,000 are the \"unlabeled training data\".\n",
    "unlabeled_indices = list(set(np.arange(len(train_set_labels))) - set(labeled_indices))\n",
    "assert len(unlabeled_indices) == 49900"
   ]
  },
  {
   "cell_type": "code",
   "execution_count": 4,
   "metadata": {
    "id": "53MPTrX-Iop9"
   },
   "outputs": [],
   "source": [
    "# Partition the training data into the \"unlabeled set\" and \"labeled set\".\n",
    "\n",
    "from torch.utils.data import Dataset\n",
    "\n",
    "class CIFAR10Subset(Dataset):\n",
    "    def __init__(self, full_set, indices, is_labeled):\n",
    "        super().__init__()\n",
    "        self.full_set = full_set\n",
    "        self.indices = indices\n",
    "        self.is_labeled = is_labeled\n",
    "\n",
    "    def __len__(self):\n",
    "        return len(self.indices)\n",
    "\n",
    "    def __getitem__(self, idx):\n",
    "        data_sample = self.full_set[self.indices[idx]]\n",
    "\n",
    "        if self.is_labeled:\n",
    "            # Return both the image and the label.\n",
    "            return data_sample\n",
    "        else:\n",
    "            # Return the image only.\n",
    "            return data_sample[0]\n",
    "\n",
    "\n",
    "train_set_unlabeled = CIFAR10Subset(train_set, unlabeled_indices, is_labeled=False)\n",
    "train_set_labeled = CIFAR10Subset(train_set, labeled_indices, is_labeled=True)"
   ]
  },
  {
   "cell_type": "code",
   "execution_count": 5,
   "metadata": {
    "colab": {
     "base_uri": "https://localhost:8080/"
    },
    "id": "UXMxlL_4LY-u",
    "outputId": "c3b9201c-11f9-492b-b337-455a2f6327a1"
   },
   "outputs": [
    {
     "data": {
      "text/plain": [
       "(49900, 100)"
      ]
     },
     "execution_count": 5,
     "metadata": {},
     "output_type": "execute_result"
    }
   ],
   "source": [
    "len(train_set_unlabeled), len(train_set_labeled)"
   ]
  },
  {
   "cell_type": "markdown",
   "metadata": {
    "id": "2yMYOUCOTC1U"
   },
   "source": [
    "## 3. Write a **Transforms** module for SimCLR contrastive learning.\n",
    "\n",
    "We will follow the \"single-instance multi-view\" paradigm (with n_views = 2).\n",
    "\n",
    "This means, for each input image, we will create 2 augmented versions of it.\n",
    "\n",
    "Then, during the contrastive learning phase, the 2 augmented versions of the same image are considered a positive sample of each other."
   ]
  },
  {
   "cell_type": "code",
   "execution_count": 7,
   "metadata": {
    "id": "DbayCF08UsHu"
   },
   "outputs": [],
   "source": [
    "from typing import Tuple\n",
    "import random\n",
    "from PIL import ImageFilter\n",
    "import torchvision.transforms as tfs\n",
    "\n",
    "\n",
    "# This essentially serves as a TorchVision Transforms module\n",
    "class SingleInstanceTwoView:\n",
    "\n",
    "    def __init__(self, imsize: int, mean: Tuple[float], std: Tuple[float]):\n",
    "        self.augmentation = tfs.Compose([\n",
    "            tfs.Resize(imsize), # 1. resize\n",
    "            tfs.RandomResizedCrop(size=imsize, scale=(0.8, 1.2)), # 2. crop\n",
    "            tfs.RandomHorizontalFlip(p=0.5), # 3. horizontal flip\n",
    "            tfs.RandomApply([tfs.ColorJitter(0.4, 0.4, 0.4, 0.1)], p=0.4), # 4. apply color jitter\n",
    "            tfs.RandomGrayscale(p=0.2), # 5. grayscale\n",
    "            tfs.RandomApply([GaussianBlur()], p=0.5), # 6. apply Gaussian blur\n",
    "            tfs.ToTensor(), # 7. convert to float\n",
    "            tfs.Normalize(mean=mean, std=std) # 8. normalize\n",
    "        ])\n",
    "\n",
    "    def __call__(self, x):\n",
    "        aug1 = self.augmentation(x)\n",
    "        aug2 = self.augmentation(x)\n",
    "        return aug1, aug2\n",
    "\n",
    "\n",
    "class GaussianBlur(object):\n",
    "\n",
    "    def __init__(self, sigma=[0.1, 1.0]):\n",
    "        self.sigma = sigma\n",
    "\n",
    "    def __call__(self, x):\n",
    "        sigma = random.uniform(self.sigma[0], self.sigma[1])\n",
    "        x = x.filter(ImageFilter.GaussianBlur(radius=sigma))\n",
    "        return x"
   ]
  },
  {
   "cell_type": "markdown",
   "metadata": {
    "id": "q3dqweq9Y10A"
   },
   "source": [
    "### Use a Dataset Wrapper to include the **Transforms**."
   ]
  },
  {
   "cell_type": "code",
   "execution_count": 8,
   "metadata": {
    "id": "vZaPBvg-KVLs"
   },
   "outputs": [],
   "source": [
    "from typing import Iterable\n",
    "\n",
    "\n",
    "class TransformsWrapper(Dataset):\n",
    "    def __init__(self, dataset, transforms):\n",
    "        super().__init__()\n",
    "        self.dataset = dataset\n",
    "        self.transforms = transforms\n",
    "\n",
    "    def __len__(self):\n",
    "        return len(self.dataset)\n",
    "\n",
    "    def __getitem__(self, idx):\n",
    "        if self.transforms is None:\n",
    "            return self.dataset[idx]\n",
    "        else:\n",
    "            if isinstance(self.dataset[idx], Iterable):\n",
    "                assert len(self.dataset[idx]) == 2\n",
    "                return self.transforms(self.dataset[idx][0]), self.dataset[idx][1]\n",
    "            else:\n",
    "                return self.transforms(self.dataset[idx])\n",
    "\n",
    "\n",
    "desired_image_size = (32, 32)\n",
    "train_set_mean = (0.4914, 0.4822, 0.4465)  # train_set.data.mean(axis=(0, 1, 2)) / 255\n",
    "train_set_std = (0.2470, 0.2435, 0.2616)  # train_set.data.std(axis=(0, 1, 2)) / 255\n",
    "\n",
    "transform_supervised_train = tfs.Compose([\n",
    "    tfs.Resize(desired_image_size,\n",
    "               interpolation=tfs.InterpolationMode.BICUBIC),\n",
    "    tfs.RandomResizedCrop(desired_image_size,\n",
    "                          scale=(0.8, 1.2),\n",
    "                          interpolation=tfs.InterpolationMode.BICUBIC),\n",
    "    tfs.RandomHorizontalFlip(p=0.5),\n",
    "    tfs.ToTensor(),\n",
    "    tfs.Normalize(mean=train_set_mean, std=train_set_std)\n",
    "])\n",
    "\n",
    "transform_simclr_train = SingleInstanceTwoView(desired_image_size, mean=train_set_mean, std=train_set_std)\n",
    "\n",
    "transform_test = tfs.Compose([\n",
    "    tfs.Resize(desired_image_size,\n",
    "              interpolation=tfs.InterpolationMode.BICUBIC),\n",
    "    tfs.CenterCrop(desired_image_size),\n",
    "    tfs.ToTensor(),\n",
    "    tfs.Normalize(mean=train_set_mean, std=train_set_std)\n",
    "])\n",
    "\n",
    "\n",
    "train_set_labeled_final = TransformsWrapper(train_set_labeled, transform_supervised_train)\n",
    "train_set_unlabeled_final = TransformsWrapper(train_set_unlabeled, transform_simclr_train)\n",
    "test_set_final = TransformsWrapper(test_set, transform_test)"
   ]
  },
  {
   "cell_type": "markdown",
   "metadata": {
    "id": "hKRPJ6wgab4Z"
   },
   "source": [
    "## 4. Write the loss function for SimCLR contrastive learning."
   ]
  },
  {
   "cell_type": "code",
   "execution_count": 9,
   "metadata": {
    "id": "Grj4TQ67aieA"
   },
   "outputs": [],
   "source": [
    "from sklearn.metrics import accuracy_score\n",
    "\n",
    "## Implement the InfoNCE loss\n",
    "class InfoNCELoss(torch.nn.Module):\n",
    "\n",
    "    def __init__(self, temperature: float = 0.5):\n",
    "        super().__init__()\n",
    "        self.temperature = temperature\n",
    "\n",
    "    def forward(self, z1: torch.Tensor, z2: torch.Tensor):\n",
    "        assert z1.shape == z2.shape\n",
    "        B, _ = z1.shape\n",
    "\n",
    "        z1 = torch.nn.functional.normalize(input=z1, p=2, dim=1)\n",
    "        z2 = torch.nn.functional.normalize(input=z2, p=2, dim=1)\n",
    "        z = torch.cat((z1, z2), dim=0)\n",
    "\n",
    "        # Compute similarity matrix\n",
    "        # Note that we refactor the `exp` and `1/temperature` operations here.\n",
    "        sim_matrix = torch.exp(torch.matmul(z, z.T) / self.temperature)\n",
    "\n",
    "        # Construct the positive mask and negative mask.\n",
    "        positive_mask = torch.zeros((2 * B, 2 * B), dtype=torch.bool, device=device)\n",
    "        positive_mask[:B, B:] = torch.eye(B, dtype=torch.bool, device=device)  # z1-z2 positives\n",
    "        positive_mask[B:, :B] = torch.eye(B, dtype=torch.bool, device=device)  # z2-z1 positives\n",
    "        negative_mask = (~positive_mask) & (~torch.eye(2 * B, dtype=torch.bool, device=device))\n",
    "\n",
    "        # Selecting the positive examples for each anchor\n",
    "        score_pos = sim_matrix[positive_mask].view(2 * B, 1)\n",
    "\n",
    "        # Sum of all similarities for negative pairs\n",
    "        score_neg = sim_matrix[negative_mask].view(2 * B, -1).sum(dim=1, keepdim=True)\n",
    "\n",
    "        # Calculating the InfoNCE loss as the log ratio\n",
    "        loss = -torch.log(score_pos / (score_pos + score_neg))\n",
    "\n",
    "        # Sanitiy check using the pseudo-accuracy computation \n",
    "        true_mask = torch.eye(B, dtype=torch.bool)\n",
    "        sim_z1_z2 = torch.matmul(z1, z2.T)\n",
    "\n",
    "        pseudo_acc = accuracy_score(\n",
    "            y_true=true_mask.cpu().detach().numpy().reshape(-1),\n",
    "            y_pred=sim_z1_z2.cpu().detach().numpy().reshape(-1) > 0)\n",
    "\n",
    "        return loss.mean(), pseudo_acc"
   ]
  },
  {
   "cell_type": "markdown",
   "metadata": {
    "id": "1bIDxZy8N2DL"
   },
   "source": [
    "## 5. Build the model.\n",
    "\n",
    "This model can be used for both contrastive learning and supervised learning."
   ]
  },
  {
   "cell_type": "code",
   "execution_count": 10,
   "metadata": {
    "id": "k7IRE5FsN1Rf"
   },
   "outputs": [],
   "source": [
    "import torch.nn as nn\n",
    "\n",
    "\n",
    "class ConvNet(nn.Module):\n",
    "\n",
    "    def __init__(self, in_channels=3, num_classes=10,\n",
    "                 simclr_hidden_dim=256, simclr_z_dim=128):\n",
    "        super().__init__()\n",
    "\n",
    "        # Use ResNet18 as the base model.\n",
    "        # Remove some pooling operations because the input images are small.\n",
    "        self.encoder = []\n",
    "        for name, module in torchvision.models.resnet18(\n",
    "                num_classes=num_classes,\n",
    "                weights=None).named_children():\n",
    "            if name == 'conv1':\n",
    "                module = torch.nn.Conv2d(3,\n",
    "                                         64,\n",
    "                                         kernel_size=3,\n",
    "                                         stride=1,\n",
    "                                         padding=1,\n",
    "                                         bias=False)\n",
    "            if not isinstance(module, nn.Linear) and not isinstance(module, nn.MaxPool2d):\n",
    "                self.encoder.append(module)\n",
    "        self.encoder.append(nn.Flatten())\n",
    "        self.encoder = torch.nn.Sequential(*self.encoder)\n",
    "\n",
    "        encoder_out_dim = 512\n",
    "\n",
    "        # Build the linear projector based on the layers:\n",
    "        # 1. a Linear layer mapping from `encoder_out_dim` to `simclr_hidden_dim`, with bias set to False.\n",
    "        # 2. a BatchNorm1d layer.\n",
    "        # 3. a ReLU layer.\n",
    "        # 4. a Linear layer mapping from `simclr_hidden_dim` to `simclr_z_dim`, with bias set to True.\n",
    "        self.linear_projector = nn.Sequential(\n",
    "            nn.Linear(encoder_out_dim, simclr_hidden_dim, bias=False),\n",
    "            nn.BatchNorm1d(simclr_hidden_dim),\n",
    "            nn.ReLU(inplace=True),\n",
    "            nn.Linear(simclr_hidden_dim, simclr_z_dim, bias=True)\n",
    "        )\n",
    "\n",
    "        self.linear_finetune = nn.Linear(encoder_out_dim, num_classes)\n",
    "\n",
    "    def embed(self, x):\n",
    "        x = self.encoder(x)\n",
    "        x = x.flatten(start_dim=1)  # keep batch dimension\n",
    "        return x\n",
    "\n",
    "    def project(self, x):\n",
    "        x = self.embed(x)\n",
    "        x = self.linear_projector(x)\n",
    "        return x\n",
    "\n",
    "    def forward(self, x):\n",
    "        x = self.embed(x)\n",
    "        x = self.linear_finetune(x)\n",
    "        return x"
   ]
  },
  {
   "cell_type": "code",
   "execution_count": 11,
   "metadata": {
    "id": "99WG4ezteICM"
   },
   "outputs": [],
   "source": [
    "batch_size = 256\n",
    "num_workers = 1 \n",
    "\n",
    "train_labeled_loader = torch.utils.data.DataLoader(train_set_labeled_final,\n",
    "                                                   batch_size=batch_size,\n",
    "                                                   num_workers=num_workers,\n",
    "                                                   shuffle=True)\n",
    "train_unlabeled_loader = torch.utils.data.DataLoader(train_set_unlabeled_final,\n",
    "                                                     batch_size=batch_size,\n",
    "                                                     num_workers=num_workers,\n",
    "                                                     drop_last=True,\n",
    "                                                     shuffle=True)\n",
    "test_loader = torch.utils.data.DataLoader(test_set_final,\n",
    "                                          batch_size=batch_size,\n",
    "                                          num_workers=num_workers,\n",
    "                                          shuffle=False)"
   ]
  },
  {
   "cell_type": "markdown",
   "metadata": {
    "id": "nLAG6ElWGwcy"
   },
   "source": [
    "### Sanity Check: Visualize the Single Instance Multi View.\n",
    "\n",
    "Each positive pair shall be 2 different augmented versions of the same image."
   ]
  },
  {
   "cell_type": "code",
   "execution_count": 19,
   "metadata": {
    "id": "4QIQK5y2Gwcy",
    "outputId": "55eb2722-25b1-4417-a2a0-7cfc43f6f4b9"
   },
   "outputs": [
    {
     "data": {
      "image/png": "[encoded data removed]",
      "text/plain": [
       "<Figure size 500x1000 with 10 Axes>"
      ]
     },
     "metadata": {},
     "output_type": "display_data"
    }
   ],
   "source": [
    "from matplotlib import pyplot as plt\n",
    "\n",
    "def convert_to_image(arr):\n",
    "    arr = np.transpose(arr, (1, 2, 0))\n",
    "    arr = (arr + 1) / 2\n",
    "    return np.clip(arr, 0, 1)\n",
    "\n",
    "num_samples = 5\n",
    "\n",
    "fig = plt.figure(figsize=(5, 2*num_samples))\n",
    "for i in range(num_samples):\n",
    "    x_aug1, x_aug2 = train_unlabeled_loader.dataset[i]\n",
    "    ax = fig.add_subplot(num_samples, 2, 2 * i + 1)\n",
    "    ax.imshow(convert_to_image(x_aug1))\n",
    "    ax = fig.add_subplot(num_samples, 2, 2 * i + 2)\n",
    "    ax.imshow(convert_to_image(x_aug2))\n",
    "\n",
    "fig.show()"
   ]
  },
  {
   "cell_type": "markdown",
   "metadata": {
    "id": "aQ-KUBYFeGOG"
   },
   "source": [
    "# Final Section Part 1: Run the experiment under SETTING 1!\n",
    "\n",
    "### Supervised training on 100 labeled training images."
   ]
  },
  {
   "cell_type": "code",
   "execution_count": 20,
   "metadata": {
    "colab": {
     "base_uri": "https://localhost:8080/"
    },
    "id": "sPJxHHqjwueP",
    "outputId": "4399c425-4459-4959-9345-4dac345ad202"
   },
   "outputs": [
    {
     "name": "stdout",
     "output_type": "stream",
     "text": [
      "Using device:  cpu\n",
      "Epoch: 0 Train Loss: 2.3995299339294434, Accuracy: 0.14\n",
      "Epoch: 10 Train Loss: 0.09004822373390198, Accuracy: 0.99\n",
      "Epoch: 20 Train Loss: 0.028319787234067917, Accuracy: 1.0\n",
      "Epoch: 30 Train Loss: 0.08121302723884583, Accuracy: 0.97\n",
      "Epoch: 40 Train Loss: 0.01903679221868515, Accuracy: 0.99\n"
     ]
    }
   ],
   "source": [
    "from sklearn.metrics import accuracy_score\n",
    "\n",
    "torch.manual_seed(10)\n",
    "random.seed(10)\n",
    "\n",
    "device = torch.device('cuda:0' if torch.cuda.is_available() else 'cpu')\n",
    "print('Using device: ', device)\n",
    "\n",
    "model_setting1 = ConvNet()\n",
    "model_setting1.to(device)\n",
    "\n",
    "# loss function\n",
    "criterion = nn.CrossEntropyLoss()\n",
    "optimizer = torch.optim.Adam(model_setting1.parameters(), lr=1e-3)\n",
    "\n",
    "# training and backpropagation loop\n",
    "epochs = 50\n",
    "train_loss_list, train_acc_list = [], []\n",
    "\n",
    "for i in range(epochs):\n",
    "\n",
    "    train_loss_epoch = 0\n",
    "    y_true_arr, y_pred_arr = None, None\n",
    "\n",
    "    for (x_train, y_train) in train_labeled_loader:\n",
    "        x_train, y_train = x_train.to(device), y_train.to(device)\n",
    "\n",
    "        bs = x_train.shape[0]\n",
    "\n",
    "        y_pred = model_setting1.forward(x_train)\n",
    "        loss = criterion(y_pred, y_train)\n",
    "\n",
    "        optimizer.zero_grad()\n",
    "        loss.backward()\n",
    "        optimizer.step()\n",
    "\n",
    "        train_loss_epoch += loss.cpu().detach().numpy() * bs\n",
    "\n",
    "        if y_true_arr is None:\n",
    "            y_true_arr = y_train.cpu().detach().numpy()\n",
    "            y_pred_arr = y_pred.cpu().detach().numpy().argmax(axis=1)\n",
    "        else:\n",
    "            y_true_arr = np.concatenate((y_true_arr, y_train.cpu().detach().numpy()), axis=0)\n",
    "            y_pred_arr = np.concatenate((y_pred_arr, y_pred.cpu().detach().numpy().argmax(axis=1)), axis=0)\n",
    "\n",
    "    train_loss_epoch = train_loss_epoch / len(train_labeled_loader.dataset)\n",
    "    acc = accuracy_score(y_true_arr, y_pred_arr)\n",
    "\n",
    "    train_loss_list.append(train_loss_epoch)\n",
    "    train_acc_list.append(acc)\n",
    "\n",
    "    if i % 10 == 0:\n",
    "        print(f'Epoch: {i} Train Loss: {train_loss_epoch}, Accuracy: {acc}')\n"
   ]
  },
  {
   "cell_type": "code",
   "execution_count": 21,
   "metadata": {
    "colab": {
     "base_uri": "https://localhost:8080/"
    },
    "id": "4U6yxso0MsUp",
    "outputId": "07ada3e8-414f-488a-e32d-f96e4d0eab15"
   },
   "outputs": [
    {
     "name": "stdout",
     "output_type": "stream",
     "text": [
      "Test Loss: 4.770900249481201, Accuracy: 0.2564\n"
     ]
    }
   ],
   "source": [
    "test_loss_epoch = 0\n",
    "y_true_arr, y_pred_arr = None, None\n",
    "\n",
    "model_setting1.eval()\n",
    "with torch.no_grad():\n",
    "    for (x_test, y_test) in test_loader:\n",
    "        x_test, y_test = x_test.to(device), y_test.to(device)\n",
    "\n",
    "        bs = x_test.shape[0]\n",
    "\n",
    "        y_pred = model_setting1.forward(x_test)\n",
    "        loss = criterion(y_pred, y_test)\n",
    "\n",
    "        test_loss_epoch += loss.cpu().detach().numpy() * bs\n",
    "\n",
    "        if y_true_arr is None:\n",
    "            y_true_arr = y_test.cpu().detach().numpy()\n",
    "            y_pred_arr = y_pred.cpu().detach().numpy().argmax(axis=1)\n",
    "        else:\n",
    "            y_true_arr = np.concatenate((y_true_arr, y_test.cpu().detach().numpy()), axis=0)\n",
    "            y_pred_arr = np.concatenate((y_pred_arr, y_pred.cpu().detach().numpy().argmax(axis=1)), axis=0)\n",
    "\n",
    "test_loss_epoch = test_loss_epoch / len(test_loader.dataset)\n",
    "test_acc = accuracy_score(y_true_arr, y_pred_arr)\n",
    "\n",
    "print(f'Test Loss: {test_loss_epoch}, Accuracy: {test_acc}')"
   ]
  },
  {
   "cell_type": "markdown",
   "metadata": {
    "id": "VgBoVenwfL4Q"
   },
   "source": [
    "### NOTE: you are expected to see some significant overfitting, since the training data is just 100 images."
   ]
  },
  {
   "cell_type": "code",
   "execution_count": 22,
   "metadata": {
    "colab": {
     "base_uri": "https://localhost:8080/",
     "height": 389
    },
    "id": "Zp0MzfZfOW9x",
    "outputId": "93b9e66d-2c7c-4cd1-c02b-8a99697c0389"
   },
   "outputs": [
    {
     "data": {
      "image/png": "[encoded data removed]",
      "text/plain": [
       "<Figure size 1000x400 with 2 Axes>"
      ]
     },
     "metadata": {},
     "output_type": "display_data"
    }
   ],
   "source": [
    "from matplotlib import pyplot as plt\n",
    "\n",
    "fig = plt.figure(figsize=(10, 4))\n",
    "ax = fig.add_subplot(1, 2, 1)\n",
    "ax.plot(range(epochs), train_loss_list)\n",
    "ax.set_ylabel('Loss')\n",
    "ax.set_xlabel('Epochs')\n",
    "\n",
    "ax = fig.add_subplot(1, 2, 2)\n",
    "ax.plot(range(epochs), train_acc_list)\n",
    "ax.axhline(y=test_acc, color='r')\n",
    "ax.set_ylabel('Accuracy')\n",
    "ax.set_xlabel('Epochs')\n",
    "fig.show()"
   ]
  },
  {
   "cell_type": "markdown",
   "metadata": {
    "id": "SMTQCnA2aGN-"
   },
   "source": [
    "# Final Section Part 2: Run the experiment under SETTING 2!\n",
    "\n",
    "### Contrastive training on 49,900 unlabeled images + Supervised fine-tuning on 100 labeled training images.\n",
    "\n",
    "Note: We know some of you might not have access to GPU, so we are limiting the training epochs.\n",
    "\n",
    "For those of you who have GPU access, you can try to increase the epochs for contrastive pre-training."
   ]
  },
  {
   "cell_type": "code",
   "execution_count": 14,
   "metadata": {
    "colab": {
     "base_uri": "https://localhost:8080/",
     "height": 1000
    },
    "id": "P61WatvwP3Kp",
    "outputId": "e442a304-1af6-472a-83fe-11de8ea2fb8c"
   },
   "outputs": [
    {
     "name": "stdout",
     "output_type": "stream",
     "text": [
      "Using device:  cuda:0\n",
      "Contrastive pre-training epoch: 0 Train Loss: 4.774204254150391, Pseudo-Acc: 0.5610735533567134\n",
      "Contrastive pre-training epoch: 5 Train Loss: 4.407375335693359, Pseudo-Acc: 0.5905822582665331\n",
      "Contrastive pre-training epoch: 10 Train Loss: 4.362005233764648, Pseudo-Acc: 0.5967800444639279\n",
      "Contrastive pre-training epoch: 15 Train Loss: 4.33983850479126, Pseudo-Acc: 0.5998295810370742\n",
      "Supervised fine-tuning epoch: 0 Train Loss: 2.4540140628814697, Accuracy: 0.07\n",
      "Supervised fine-tuning epoch: 10 Train Loss: 1.919206142425537, Accuracy: 0.43\n",
      "Supervised fine-tuning epoch: 20 Train Loss: 1.4990525245666504, Accuracy: 0.71\n",
      "Supervised fine-tuning epoch: 30 Train Loss: 1.1803805828094482, Accuracy: 0.8\n",
      "Supervised fine-tuning epoch: 40 Train Loss: 0.9066799283027649, Accuracy: 0.85\n"
     ]
    },
    {
     "name": "stdout",
     "output_type": "stream",
     "text": [
      "Contrastive pre-training epoch: 0 Train Loss: 4.773734620119145, Pseudo-Acc: 0.5745953626002004\n",
      "Contrastive pre-training epoch: 4 Train Loss: 4.440497726409851, Pseudo-Acc: 0.5903172751753507\n",
      "Contrastive pre-training epoch: 8 Train Loss: 4.398286083886523, Pseudo-Acc: 0.5921968937875751\n",
      "Supervised fine-tuning epoch: 0 Train Loss: 2.329841136932373, Accuracy: 0.13\n",
      "Supervised fine-tuning epoch: 10 Train Loss: 1.837794303894043, Accuracy: 0.56\n",
      "Supervised fine-tuning epoch: 20 Train Loss: 1.4588438272476196, Accuracy: 0.67\n",
      "Supervised fine-tuning epoch: 30 Train Loss: 1.1634091138839722, Accuracy: 0.78\n",
      "Supervised fine-tuning epoch: 40 Train Loss: 0.9234676957130432, Accuracy: 0.75\n"
     ]
    }
   ],
   "source": [
    "from sklearn.metrics import accuracy_score\n",
    "\n",
    "torch.manual_seed(10)\n",
    "random.seed(10)\n",
    "\n",
    "device = torch.device('cuda:0' if torch.cuda.is_available() else 'cpu')\n",
    "print('Using device: ', device)\n",
    "\n",
    "model_setting2 = ConvNet()\n",
    "model_setting2.to(device)\n",
    "\n",
    "# Step 1. contrastive pre-training.\n",
    "epochs = 20\n",
    "criterion_simclr = InfoNCELoss()\n",
    "optimizer = torch.optim.Adam(model_setting2.parameters(), lr=1e-2)\n",
    "\n",
    "for i in range(epochs):\n",
    "\n",
    "    train_loss_epoch, train_pseudoacc_epoch = 0, 0\n",
    "    for (x_aug1, x_aug2) in train_unlabeled_loader:\n",
    "        x_aug1, x_aug2 = x_aug1.to(device), x_aug2.to(device)\n",
    "\n",
    "        bs = x_aug1.shape[0]\n",
    "\n",
    "        z1 = model_setting2.project(x_aug1)\n",
    "        z2 = model_setting2.project(x_aug2)\n",
    "\n",
    "        loss, pseudo_acc = criterion_simclr(z1, z2)\n",
    "\n",
    "        optimizer.zero_grad()\n",
    "        loss.backward()\n",
    "        optimizer.step()\n",
    "\n",
    "        train_loss_epoch += loss.cpu().detach().numpy() * bs\n",
    "        train_pseudoacc_epoch += pseudo_acc * bs\n",
    "\n",
    "    train_loss_epoch = train_loss_epoch / len(train_unlabeled_loader.dataset)\n",
    "    train_pseudoacc_epoch = train_pseudoacc_epoch / len(train_unlabeled_loader.dataset)\n",
    "\n",
    "    if i % 5 == 0:\n",
    "        print(f'Contrastive pre-training epoch: {i} Train Loss: {train_loss_epoch}, Pseudo-Acc: {train_pseudoacc_epoch}')\n",
    "\n",
    "\n",
    "# Step 2. supervised fine-tuning.\n",
    "criterion = nn.CrossEntropyLoss()\n",
    "optimizer = torch.optim.Adam(model_setting2.parameters(), lr=4e-4)\n",
    "epochs = 50\n",
    "\n",
    "train_loss_list, train_acc_list = [], []\n",
    "\n",
    "for i in range(epochs):\n",
    "\n",
    "    train_loss_epoch = 0\n",
    "    y_true_arr, y_pred_arr = None, None\n",
    "\n",
    "    for (x_train, y_train) in train_labeled_loader:\n",
    "        x_train, y_train = x_train.to(device), y_train.to(device)\n",
    "\n",
    "        bs = x_train.shape[0]\n",
    "\n",
    "        y_pred = model_setting2.forward(x_train)\n",
    "        loss = criterion(y_pred, y_train)\n",
    "\n",
    "        optimizer.zero_grad()\n",
    "        loss.backward()\n",
    "        optimizer.step()\n",
    "\n",
    "        train_loss_epoch += loss.cpu().detach().numpy() * bs\n",
    "\n",
    "        if y_true_arr is None:\n",
    "            y_true_arr = y_train.cpu().detach().numpy()\n",
    "            y_pred_arr = y_pred.cpu().detach().numpy().argmax(axis=1)\n",
    "        else:\n",
    "            y_true_arr = np.concatenate((y_true_arr, y_train.cpu().detach().numpy()), axis=0)\n",
    "            y_pred_arr = np.concatenate((y_pred_arr, y_pred.cpu().detach().numpy().argmax(axis=1)), axis=0)\n",
    "\n",
    "    train_loss_epoch = train_loss_epoch / len(train_labeled_loader.dataset)\n",
    "    acc = accuracy_score(y_true_arr, y_pred_arr)\n",
    "\n",
    "    train_loss_list.append(train_loss_epoch)\n",
    "    train_acc_list.append(acc)\n",
    "\n",
    "    if i % 10 == 0:\n",
    "        print(f'Supervised fine-tuning epoch: {i} Train Loss: {train_loss_epoch}, Accuracy: {acc}')"
   ]
  },
  {
   "cell_type": "code",
   "execution_count": 15,
   "metadata": {
    "id": "miFqcf39fXWW",
    "outputId": "f2307df3-5cea-48a4-9548-2c1fb50c0df9"
   },
   "outputs": [
    {
     "name": "stdout",
     "output_type": "stream",
     "text": [
      "Test Loss: 1.5365160703659058, Accuracy: 0.4607\n"
     ]
    }
   ],
   "source": [
    "test_loss_epoch = 0\n",
    "y_true_arr, y_pred_arr = None, None\n",
    "\n",
    "model_setting2.eval()\n",
    "with torch.no_grad():\n",
    "    for (x_test, y_test) in test_loader:\n",
    "        x_test, y_test = x_test.to(device), y_test.to(device)\n",
    "\n",
    "        bs = x_test.shape[0]\n",
    "\n",
    "        y_pred = model_setting2.forward(x_test)\n",
    "        loss = criterion(y_pred, y_test)\n",
    "\n",
    "        test_loss_epoch += loss.cpu().detach().numpy() * bs\n",
    "\n",
    "        if y_true_arr is None:\n",
    "            y_true_arr = y_test.cpu().detach().numpy()\n",
    "            y_pred_arr = y_pred.cpu().detach().numpy().argmax(axis=1)\n",
    "        else:\n",
    "            y_true_arr = np.concatenate((y_true_arr, y_test.cpu().detach().numpy()), axis=0)\n",
    "            y_pred_arr = np.concatenate((y_pred_arr, y_pred.cpu().detach().numpy().argmax(axis=1)), axis=0)\n",
    "\n",
    "test_loss_epoch = test_loss_epoch / len(test_loader.dataset)\n",
    "test_acc = accuracy_score(y_true_arr, y_pred_arr)\n",
    "\n",
    "print(f'Test Loss: {test_loss_epoch}, Accuracy: {test_acc}')"
   ]
  },
  {
   "cell_type": "code",
   "execution_count": 16,
   "metadata": {
    "id": "jBaomtywwK5U",
    "outputId": "0e28db0f-e60e-416d-a343-1f1cfc5e7485"
   },
   "outputs": [
    {
     "data": {
      "image/png": "[encoded data removed]",
      "text/plain": [
       "<Figure size 1000x400 with 2 Axes>"
      ]
     },
     "metadata": {},
     "output_type": "display_data"
    }
   ],
   "source": [
    "from matplotlib import pyplot as plt\n",
    "\n",
    "fig = plt.figure(figsize=(10, 4))\n",
    "ax = fig.add_subplot(1, 2, 1)\n",
    "ax.plot(range(epochs), train_loss_list)\n",
    "ax.set_ylabel('Loss')\n",
    "ax.set_xlabel('Epochs')\n",
    "\n",
    "ax = fig.add_subplot(1, 2, 2)\n",
    "ax.plot(range(epochs), train_acc_list)\n",
    "ax.axhline(y=test_acc, color='r')\n",
    "ax.set_ylabel('Accuracy')\n",
    "ax.set_xlabel('Epochs')\n",
    "fig.show()"
   ]
  }
 ],
 "metadata": {
  "colab": {
   "provenance": []
  },
  "kernelspec": {
   "display_name": "Python 3 (ipykernel)",
   "language": "python",
   "name": "python3"
  },
  "language_info": {
   "codemirror_mode": {
    "name": "ipython",
    "version": 3
   },
   "file_extension": ".py",
   "mimetype": "text/x-python",
   "name": "python",
   "nbconvert_exporter": "python",
   "pygments_lexer": "ipython3",
   "version": "3.13.2"
  }
 },
 "nbformat": 4,
 "nbformat_minor": 4
}
